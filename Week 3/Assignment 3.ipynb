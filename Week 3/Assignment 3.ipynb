{
 "cells": [
  {
   "cell_type": "markdown",
   "id": "22049791-8e55-4b87-aaf6-c314e456257e",
   "metadata": {},
   "source": [
    "# Eisha Shakeel\n",
    "## Assignment Week 3\n",
    "### This Jupyter notebook took data from geohub on collisions in West LA in line with my group's project.\n",
    "# I analyzed and produced charts on the victims of these collisions such as whether they were drivers, or passsengers, how many victims there were, and what kind of safety equipment tehy had utilized."
   ]
  },
  {
   "cell_type": "code",
   "execution_count": 3,
   "id": "9dc79459-4dd4-4837-ba32-37b2473f13ca",
   "metadata": {},
   "outputs": [],
   "source": [
    "import pandas as pd"
   ]
  },
  {
   "cell_type": "markdown",
   "id": "8cf0c7a9-b3fb-4fe8-9fe1-5eea1b823814",
   "metadata": {},
   "source": [
    "# This excel file is taken from this link <https://geohub.lacity.org/datasets/ladot::collisions-2014-2019-switrs/about?layer=2>"
   ]
  },
  {
   "cell_type": "code",
   "execution_count": 9,
   "id": "227a0f8d-db9f-438c-814b-eb7745a4344e",
   "metadata": {},
   "outputs": [],
   "source": [
    "df = pd.read_csv('Collisions_2014-2019__SWITRS_.csv')"
   ]
  },
  {
   "cell_type": "code",
   "execution_count": 10,
   "id": "7d913ac5-a3e4-4f31-add4-88d2955b011c",
   "metadata": {},
   "outputs": [
    {
     "data": {
      "text/html": [
       "<div>\n",
       "<style scoped>\n",
       "    .dataframe tbody tr th:only-of-type {\n",
       "        vertical-align: middle;\n",
       "    }\n",
       "\n",
       "    .dataframe tbody tr th {\n",
       "        vertical-align: top;\n",
       "    }\n",
       "\n",
       "    .dataframe thead th {\n",
       "        text-align: right;\n",
       "    }\n",
       "</style>\n",
       "<table border=\"1\" class=\"dataframe\">\n",
       "  <thead>\n",
       "    <tr style=\"text-align: right;\">\n",
       "      <th></th>\n",
       "      <th>OBJECTID</th>\n",
       "      <th>case_id</th>\n",
       "      <th>party_number</th>\n",
       "      <th>victim_role</th>\n",
       "      <th>victim_sex</th>\n",
       "      <th>victim_age</th>\n",
       "      <th>victim_degree_of_injury</th>\n",
       "      <th>victim_seating_position</th>\n",
       "      <th>victim_safety_equip_1</th>\n",
       "      <th>victim_safety_equip_2</th>\n",
       "      <th>victim_ejected</th>\n",
       "      <th>accident_year</th>\n",
       "      <th>victim_number</th>\n",
       "    </tr>\n",
       "  </thead>\n",
       "  <tbody>\n",
       "    <tr>\n",
       "      <th>0</th>\n",
       "      <td>1</td>\n",
       "      <td>6367400.0</td>\n",
       "      <td>1</td>\n",
       "      <td>2</td>\n",
       "      <td>F</td>\n",
       "      <td>22</td>\n",
       "      <td>0</td>\n",
       "      <td>3.0</td>\n",
       "      <td>G</td>\n",
       "      <td>M</td>\n",
       "      <td>0.0</td>\n",
       "      <td>2014</td>\n",
       "      <td>1</td>\n",
       "    </tr>\n",
       "    <tr>\n",
       "      <th>1</th>\n",
       "      <td>2</td>\n",
       "      <td>6367400.0</td>\n",
       "      <td>2</td>\n",
       "      <td>1</td>\n",
       "      <td>M</td>\n",
       "      <td>43</td>\n",
       "      <td>2</td>\n",
       "      <td>1.0</td>\n",
       "      <td>P</td>\n",
       "      <td>W</td>\n",
       "      <td>1.0</td>\n",
       "      <td>2014</td>\n",
       "      <td>2</td>\n",
       "    </tr>\n",
       "    <tr>\n",
       "      <th>2</th>\n",
       "      <td>3</td>\n",
       "      <td>7057647.0</td>\n",
       "      <td>1</td>\n",
       "      <td>1</td>\n",
       "      <td>M</td>\n",
       "      <td>18</td>\n",
       "      <td>2</td>\n",
       "      <td>3.0</td>\n",
       "      <td>P</td>\n",
       "      <td>V</td>\n",
       "      <td>2.0</td>\n",
       "      <td>2015</td>\n",
       "      <td>1</td>\n",
       "    </tr>\n",
       "    <tr>\n",
       "      <th>3</th>\n",
       "      <td>4</td>\n",
       "      <td>7212741.0</td>\n",
       "      <td>1</td>\n",
       "      <td>1</td>\n",
       "      <td>M</td>\n",
       "      <td>38</td>\n",
       "      <td>2</td>\n",
       "      <td>1.0</td>\n",
       "      <td>P</td>\n",
       "      <td>W</td>\n",
       "      <td>2.0</td>\n",
       "      <td>2016</td>\n",
       "      <td>1</td>\n",
       "    </tr>\n",
       "    <tr>\n",
       "      <th>4</th>\n",
       "      <td>5</td>\n",
       "      <td>8166572.0</td>\n",
       "      <td>1</td>\n",
       "      <td>1</td>\n",
       "      <td>M</td>\n",
       "      <td>39</td>\n",
       "      <td>1</td>\n",
       "      <td>1.0</td>\n",
       "      <td>L</td>\n",
       "      <td>H</td>\n",
       "      <td>1.0</td>\n",
       "      <td>2015</td>\n",
       "      <td>1</td>\n",
       "    </tr>\n",
       "    <tr>\n",
       "      <th>...</th>\n",
       "      <td>...</td>\n",
       "      <td>...</td>\n",
       "      <td>...</td>\n",
       "      <td>...</td>\n",
       "      <td>...</td>\n",
       "      <td>...</td>\n",
       "      <td>...</td>\n",
       "      <td>...</td>\n",
       "      <td>...</td>\n",
       "      <td>...</td>\n",
       "      <td>...</td>\n",
       "      <td>...</td>\n",
       "      <td>...</td>\n",
       "    </tr>\n",
       "    <tr>\n",
       "      <th>279510</th>\n",
       "      <td>279511</td>\n",
       "      <td>8855440.0</td>\n",
       "      <td>2</td>\n",
       "      <td>2</td>\n",
       "      <td>F</td>\n",
       "      <td>59</td>\n",
       "      <td>4</td>\n",
       "      <td>3.0</td>\n",
       "      <td>M</td>\n",
       "      <td>G</td>\n",
       "      <td>0.0</td>\n",
       "      <td>2019</td>\n",
       "      <td>1</td>\n",
       "    </tr>\n",
       "    <tr>\n",
       "      <th>279511</th>\n",
       "      <td>279512</td>\n",
       "      <td>8855440.0</td>\n",
       "      <td>3</td>\n",
       "      <td>2</td>\n",
       "      <td>-</td>\n",
       "      <td>998</td>\n",
       "      <td>0</td>\n",
       "      <td>6.0</td>\n",
       "      <td>M</td>\n",
       "      <td>G</td>\n",
       "      <td>0.0</td>\n",
       "      <td>2019</td>\n",
       "      <td>2</td>\n",
       "    </tr>\n",
       "    <tr>\n",
       "      <th>279512</th>\n",
       "      <td>279513</td>\n",
       "      <td>8855621.0</td>\n",
       "      <td>1</td>\n",
       "      <td>2</td>\n",
       "      <td>F</td>\n",
       "      <td>32</td>\n",
       "      <td>0</td>\n",
       "      <td>3.0</td>\n",
       "      <td>M</td>\n",
       "      <td>G</td>\n",
       "      <td>0.0</td>\n",
       "      <td>2019</td>\n",
       "      <td>1</td>\n",
       "    </tr>\n",
       "    <tr>\n",
       "      <th>279513</th>\n",
       "      <td>279514</td>\n",
       "      <td>8855621.0</td>\n",
       "      <td>2</td>\n",
       "      <td>1</td>\n",
       "      <td>M</td>\n",
       "      <td>21</td>\n",
       "      <td>4</td>\n",
       "      <td>1.0</td>\n",
       "      <td>P</td>\n",
       "      <td>W</td>\n",
       "      <td>1.0</td>\n",
       "      <td>2019</td>\n",
       "      <td>2</td>\n",
       "    </tr>\n",
       "    <tr>\n",
       "      <th>279514</th>\n",
       "      <td>279515</td>\n",
       "      <td>8855923.0</td>\n",
       "      <td>2</td>\n",
       "      <td>1</td>\n",
       "      <td>F</td>\n",
       "      <td>41</td>\n",
       "      <td>4</td>\n",
       "      <td>1.0</td>\n",
       "      <td>M</td>\n",
       "      <td>G</td>\n",
       "      <td>0.0</td>\n",
       "      <td>2019</td>\n",
       "      <td>1</td>\n",
       "    </tr>\n",
       "  </tbody>\n",
       "</table>\n",
       "<p>279515 rows × 13 columns</p>\n",
       "</div>"
      ],
      "text/plain": [
       "        OBJECTID    case_id  party_number  victim_role victim_sex  victim_age  \\\n",
       "0              1  6367400.0             1            2          F          22   \n",
       "1              2  6367400.0             2            1          M          43   \n",
       "2              3  7057647.0             1            1          M          18   \n",
       "3              4  7212741.0             1            1          M          38   \n",
       "4              5  8166572.0             1            1          M          39   \n",
       "...          ...        ...           ...          ...        ...         ...   \n",
       "279510    279511  8855440.0             2            2          F          59   \n",
       "279511    279512  8855440.0             3            2          -         998   \n",
       "279512    279513  8855621.0             1            2          F          32   \n",
       "279513    279514  8855621.0             2            1          M          21   \n",
       "279514    279515  8855923.0             2            1          F          41   \n",
       "\n",
       "        victim_degree_of_injury  victim_seating_position  \\\n",
       "0                             0                      3.0   \n",
       "1                             2                      1.0   \n",
       "2                             2                      3.0   \n",
       "3                             2                      1.0   \n",
       "4                             1                      1.0   \n",
       "...                         ...                      ...   \n",
       "279510                        4                      3.0   \n",
       "279511                        0                      6.0   \n",
       "279512                        0                      3.0   \n",
       "279513                        4                      1.0   \n",
       "279514                        4                      1.0   \n",
       "\n",
       "       victim_safety_equip_1 victim_safety_equip_2  victim_ejected  \\\n",
       "0                          G                     M             0.0   \n",
       "1                          P                     W             1.0   \n",
       "2                          P                     V             2.0   \n",
       "3                          P                     W             2.0   \n",
       "4                          L                     H             1.0   \n",
       "...                      ...                   ...             ...   \n",
       "279510                     M                     G             0.0   \n",
       "279511                     M                     G             0.0   \n",
       "279512                     M                     G             0.0   \n",
       "279513                     P                     W             1.0   \n",
       "279514                     M                     G             0.0   \n",
       "\n",
       "        accident_year  victim_number  \n",
       "0                2014              1  \n",
       "1                2014              2  \n",
       "2                2015              1  \n",
       "3                2016              1  \n",
       "4                2015              1  \n",
       "...               ...            ...  \n",
       "279510           2019              1  \n",
       "279511           2019              2  \n",
       "279512           2019              1  \n",
       "279513           2019              2  \n",
       "279514           2019              1  \n",
       "\n",
       "[279515 rows x 13 columns]"
      ]
     },
     "execution_count": 10,
     "metadata": {},
     "output_type": "execute_result"
    }
   ],
   "source": [
    "pd.read_csv('Collisions_2014-2019__SWITRS_.csv')"
   ]
  },
  {
   "cell_type": "code",
   "execution_count": 11,
   "id": "ac8e9c75-513c-4232-b6fc-ca8123c28d53",
   "metadata": {},
   "outputs": [],
   "source": [
    "columns = list(df)"
   ]
  },
  {
   "cell_type": "code",
   "execution_count": 12,
   "id": "48858ba7-af83-4810-aebf-4fe5051006bc",
   "metadata": {},
   "outputs": [
    {
     "data": {
      "text/plain": [
       "['OBJECTID',\n",
       " 'case_id',\n",
       " 'party_number',\n",
       " 'victim_role',\n",
       " 'victim_sex',\n",
       " 'victim_age',\n",
       " 'victim_degree_of_injury',\n",
       " 'victim_seating_position',\n",
       " 'victim_safety_equip_1',\n",
       " 'victim_safety_equip_2',\n",
       " 'victim_ejected',\n",
       " 'accident_year',\n",
       " 'victim_number']"
      ]
     },
     "execution_count": 12,
     "metadata": {},
     "output_type": "execute_result"
    }
   ],
   "source": [
    "columns"
   ]
  },
  {
   "cell_type": "code",
   "execution_count": 13,
   "id": "67e9b0ca-e132-4cdc-af60-d5084e191273",
   "metadata": {},
   "outputs": [
    {
     "data": {
      "text/plain": [
       "<bound method NDFrame.sample of         OBJECTID    case_id  party_number  victim_role victim_sex  victim_age  \\\n",
       "0              1  6367400.0             1            2          F          22   \n",
       "1              2  6367400.0             2            1          M          43   \n",
       "2              3  7057647.0             1            1          M          18   \n",
       "3              4  7212741.0             1            1          M          38   \n",
       "4              5  8166572.0             1            1          M          39   \n",
       "...          ...        ...           ...          ...        ...         ...   \n",
       "279510    279511  8855440.0             2            2          F          59   \n",
       "279511    279512  8855440.0             3            2          -         998   \n",
       "279512    279513  8855621.0             1            2          F          32   \n",
       "279513    279514  8855621.0             2            1          M          21   \n",
       "279514    279515  8855923.0             2            1          F          41   \n",
       "\n",
       "        victim_degree_of_injury  victim_seating_position  \\\n",
       "0                             0                      3.0   \n",
       "1                             2                      1.0   \n",
       "2                             2                      3.0   \n",
       "3                             2                      1.0   \n",
       "4                             1                      1.0   \n",
       "...                         ...                      ...   \n",
       "279510                        4                      3.0   \n",
       "279511                        0                      6.0   \n",
       "279512                        0                      3.0   \n",
       "279513                        4                      1.0   \n",
       "279514                        4                      1.0   \n",
       "\n",
       "       victim_safety_equip_1 victim_safety_equip_2  victim_ejected  \\\n",
       "0                          G                     M             0.0   \n",
       "1                          P                     W             1.0   \n",
       "2                          P                     V             2.0   \n",
       "3                          P                     W             2.0   \n",
       "4                          L                     H             1.0   \n",
       "...                      ...                   ...             ...   \n",
       "279510                     M                     G             0.0   \n",
       "279511                     M                     G             0.0   \n",
       "279512                     M                     G             0.0   \n",
       "279513                     P                     W             1.0   \n",
       "279514                     M                     G             0.0   \n",
       "\n",
       "        accident_year  victim_number  \n",
       "0                2014              1  \n",
       "1                2014              2  \n",
       "2                2015              1  \n",
       "3                2016              1  \n",
       "4                2015              1  \n",
       "...               ...            ...  \n",
       "279510           2019              1  \n",
       "279511           2019              2  \n",
       "279512           2019              1  \n",
       "279513           2019              2  \n",
       "279514           2019              1  \n",
       "\n",
       "[279515 rows x 13 columns]>"
      ]
     },
     "execution_count": 13,
     "metadata": {},
     "output_type": "execute_result"
    }
   ],
   "source": [
    "df.sample"
   ]
  },
  {
   "cell_type": "code",
   "execution_count": 14,
   "id": "32fe3f2b-127f-4aba-9a62-1d7c90b9ba01",
   "metadata": {},
   "outputs": [
    {
     "data": {
      "text/plain": [
       "0    0.0\n",
       "1    1.0\n",
       "2    2.0\n",
       "3    2.0\n",
       "4    1.0\n",
       "Name: victim_ejected, dtype: float64"
      ]
     },
     "execution_count": 14,
     "metadata": {},
     "output_type": "execute_result"
    }
   ],
   "source": [
    "df['victim_ejected'].head()"
   ]
  },
  {
   "cell_type": "markdown",
   "id": "8d0897d8-366a-411f-8863-59c14a10cfc6",
   "metadata": {},
   "source": [
    "## Victim safety equipment used\n",
    "### A - None in Vehicle\n",
    "### B - Unknown\n",
    "### C - Lap Belt Used\n",
    "### D - Lap Belt Not Used\n",
    "### E - Shoulder Harness Used\n",
    "### F - Shoulder Harness Not Used\n",
    "### G - Lap/Shoulder Harness Used\n",
    "### H - Lap/Shoulder Harness Not Used\n",
    "### J - Passive Restraint Used\n",
    "### K - Passive Restraint Not Used\n",
    "### L - Air Bag Deployed\n",
    "### M - Air Bag Not Deployed\n",
    "### N - O ther\n",
    "### P - Not Required\n",
    "### Q - Child Restraint in Vehicle Used\n",
    "### R - Child Restraint in Vehicle Not Used\n",
    "### S - Child Restraint in Vehicle, Use Unknown\n",
    "### T - Child Restraint in Vehicle, Improper Use\n",
    "### U - No Child Restraint in Vehicle\n",
    "### V - Driver, Motorcycle Helmet Not Used\n",
    "### W - Driver, Motorcycle Helmet Used\n",
    "### - Passenger, Motorcycle Helmet Not Used\n",
    "### - Passenger, Motorcycle Helmet Used\n",
    "- or blank - Not Stated"
   ]
  },
  {
   "cell_type": "code",
   "execution_count": 15,
   "id": "5948c106-8033-49fe-aa31-8c4f7aea2cd7",
   "metadata": {},
   "outputs": [
    {
     "data": {
      "text/plain": [
       "0    G\n",
       "1    P\n",
       "2    P\n",
       "3    P\n",
       "4    L\n",
       "Name: victim_safety_equip_1, dtype: object"
      ]
     },
     "execution_count": 15,
     "metadata": {},
     "output_type": "execute_result"
    }
   ],
   "source": [
    "df['victim_safety_equip_1'].head()"
   ]
  },
  {
   "cell_type": "code",
   "execution_count": 16,
   "id": "acd0e0d6-7601-4df1-9a4c-e9a60795eefa",
   "metadata": {},
   "outputs": [
    {
     "data": {
      "text/plain": [
       "279510    1\n",
       "279511    2\n",
       "279512    1\n",
       "279513    2\n",
       "279514    1\n",
       "Name: victim_number, dtype: int64"
      ]
     },
     "execution_count": 16,
     "metadata": {},
     "output_type": "execute_result"
    }
   ],
   "source": [
    "df['victim_number'].tail()"
   ]
  },
  {
   "cell_type": "markdown",
   "id": "0ed13082-aabd-4e69-a240-c4439f69a01d",
   "metadata": {},
   "source": [
    "## Victim Seating Position\n",
    "### 1 - Driver  \n",
    "### 2 - Passengers \n",
    "### 7 - Station Wagon Rear  \n",
    "### 8 - Rear Occupant of Truck or Van  \n",
    "### 9 - Position Unknown  \n",
    "### 0 - Other Occupants\n",
    "### A thru Z - Bus Occupants"
   ]
  },
  {
   "cell_type": "code",
   "execution_count": 17,
   "id": "e0794506-9f1a-48b2-b4ea-a13844378a58",
   "metadata": {},
   "outputs": [
    {
     "data": {
      "text/plain": [
       "<Axes: ylabel='Frequency'>"
      ]
     },
     "execution_count": 17,
     "metadata": {},
     "output_type": "execute_result"
    },
    {
     "data": {
      "image/png": "[encoded data removed]",
      "text/plain": [
       "<Figure size 640x480 with 1 Axes>"
      ]
     },
     "metadata": {},
     "output_type": "display_data"
    }
   ],
   "source": [
    "df['victim_seating_position'].plot.hist(bins=15)"
   ]
  },
  {
   "cell_type": "markdown",
   "id": "d32caf2e-4d76-4e5e-a3f5-bf776fcc24d1",
   "metadata": {},
   "source": [
    "## In this we can see that the highest number of victims happened to be drivers, while the second largest majority are passengers."
   ]
  },
  {
   "cell_type": "code",
   "execution_count": 18,
   "id": "8baf352f-3523-4c3e-82b7-91efc78a1ede",
   "metadata": {},
   "outputs": [
    {
     "data": {
      "text/plain": [
       "<Axes: >"
      ]
     },
     "execution_count": 18,
     "metadata": {},
     "output_type": "execute_result"
    },
    {
     "data": {
      "image/png": "[encoded data removed]",
      "text/plain": [
       "<Figure size 640x480 with 1 Axes>"
      ]
     },
     "metadata": {},
     "output_type": "display_data"
    }
   ],
   "source": [
    "df.boxplot(column=['victim_seating_position'])"
   ]
  },
  {
   "cell_type": "code",
   "execution_count": 19,
   "id": "8e6b36a4-be2b-4188-b631-b6180f7098b5",
   "metadata": {},
   "outputs": [
    {
     "data": {
      "text/plain": [
       "0    6367400.0\n",
       "1    6367400.0\n",
       "2    7057647.0\n",
       "3    7212741.0\n",
       "4    8166572.0\n",
       "Name: case_id, dtype: float64"
      ]
     },
     "execution_count": 19,
     "metadata": {},
     "output_type": "execute_result"
    }
   ],
   "source": [
    "df['case_id'].head()"
   ]
  },
  {
   "cell_type": "code",
   "execution_count": 4,
   "id": "104864cb-ea4a-43be-9450-432c0f1fa6fd",
   "metadata": {},
   "outputs": [],
   "source": [
    "df2 = pd.read_csv('Party_Tables_-_Collisions_2009-2013_(SWITRS).csv')"
   ]
  },
  {
   "cell_type": "markdown",
   "id": "aaa21d3f-7acf-4023-ba62-7a5b7869faeb",
   "metadata": {},
   "source": [
    "## I imported another file on this link <https://geohub.lacity.org/datasets/ladot::party-tables-collisions-2009-2013-switrs/explore>\r\n",
    "\r\n",
    "### This link to the document that showcases the values for the raw data obtained and outlined below states \r\n",
    "### The three files are the collision data file, party data file and victim data file. \r\n",
    "### All three files are linked together with the same case ID of each collision.\r\n",
    "### The victim data is linked to the collision file by the case ID and to their respective party by the party.\r\n"
   ]
  },
  {
   "cell_type": "code",
   "execution_count": 21,
   "id": "a5e161b7-fc6c-44ad-8e0f-1ab6af5234f8",
   "metadata": {},
   "outputs": [
    {
     "data": {
      "text/html": [
       "<div>\n",
       "<style scoped>\n",
       "    .dataframe tbody tr th:only-of-type {\n",
       "        vertical-align: middle;\n",
       "    }\n",
       "\n",
       "    .dataframe tbody tr th {\n",
       "        vertical-align: top;\n",
       "    }\n",
       "\n",
       "    .dataframe thead th {\n",
       "        text-align: right;\n",
       "    }\n",
       "</style>\n",
       "<table border=\"1\" class=\"dataframe\">\n",
       "  <thead>\n",
       "    <tr style=\"text-align: right;\">\n",
       "      <th></th>\n",
       "      <th>FID</th>\n",
       "      <th>CASE_ID</th>\n",
       "      <th>PARTY_NUMBER</th>\n",
       "      <th>PARTY_TYPE</th>\n",
       "      <th>AT_FAULT</th>\n",
       "      <th>PARTY_SEX</th>\n",
       "      <th>PARTY_AGE</th>\n",
       "      <th>PARTY_SOBRIETY</th>\n",
       "      <th>PARTY_DRUG_PHYSICAL</th>\n",
       "      <th>DIR_OF_TRAVEL</th>\n",
       "      <th>...</th>\n",
       "      <th>VEHICLE_YEAR</th>\n",
       "      <th>VEHICLE_MAKE</th>\n",
       "      <th>STWD_VEHICLE_TYPE</th>\n",
       "      <th>CHP_VEH_TYPE_TOWING</th>\n",
       "      <th>CHP_VEH_TYPE_TOWED</th>\n",
       "      <th>RACE</th>\n",
       "      <th>INATTENTION</th>\n",
       "      <th>SPECIAL_INFO_F</th>\n",
       "      <th>SPECIAL_INFO_G</th>\n",
       "      <th>ACCIDENT_YEAR</th>\n",
       "    </tr>\n",
       "  </thead>\n",
       "  <tbody>\n",
       "    <tr>\n",
       "      <th>0</th>\n",
       "      <td>1</td>\n",
       "      <td>416267</td>\n",
       "      <td>1</td>\n",
       "      <td>1.0</td>\n",
       "      <td>N</td>\n",
       "      <td>F</td>\n",
       "      <td>26</td>\n",
       "      <td>G</td>\n",
       "      <td>G</td>\n",
       "      <td>N</td>\n",
       "      <td>...</td>\n",
       "      <td>2001.0</td>\n",
       "      <td>MITSUBISHI</td>\n",
       "      <td>A</td>\n",
       "      <td>NaN</td>\n",
       "      <td>NaN</td>\n",
       "      <td>W</td>\n",
       "      <td>NaN</td>\n",
       "      <td>-</td>\n",
       "      <td>-</td>\n",
       "      <td>2003</td>\n",
       "    </tr>\n",
       "    <tr>\n",
       "      <th>1</th>\n",
       "      <td>2</td>\n",
       "      <td>416267</td>\n",
       "      <td>2</td>\n",
       "      <td>4.0</td>\n",
       "      <td>Y</td>\n",
       "      <td>M</td>\n",
       "      <td>30</td>\n",
       "      <td>G</td>\n",
       "      <td>G</td>\n",
       "      <td>W</td>\n",
       "      <td>...</td>\n",
       "      <td>0.0</td>\n",
       "      <td>-</td>\n",
       "      <td>L</td>\n",
       "      <td>NaN</td>\n",
       "      <td>NaN</td>\n",
       "      <td>W</td>\n",
       "      <td>NaN</td>\n",
       "      <td>-</td>\n",
       "      <td>-</td>\n",
       "      <td>2003</td>\n",
       "    </tr>\n",
       "    <tr>\n",
       "      <th>2</th>\n",
       "      <td>3</td>\n",
       "      <td>416268</td>\n",
       "      <td>1</td>\n",
       "      <td>1.0</td>\n",
       "      <td>N</td>\n",
       "      <td>M</td>\n",
       "      <td>40</td>\n",
       "      <td>B</td>\n",
       "      <td>-</td>\n",
       "      <td>E</td>\n",
       "      <td>...</td>\n",
       "      <td>1989.0</td>\n",
       "      <td>FORD</td>\n",
       "      <td>D</td>\n",
       "      <td>NaN</td>\n",
       "      <td>NaN</td>\n",
       "      <td>W</td>\n",
       "      <td>NaN</td>\n",
       "      <td>-</td>\n",
       "      <td>-</td>\n",
       "      <td>2003</td>\n",
       "    </tr>\n",
       "    <tr>\n",
       "      <th>3</th>\n",
       "      <td>4</td>\n",
       "      <td>416268</td>\n",
       "      <td>2</td>\n",
       "      <td>1.0</td>\n",
       "      <td>Y</td>\n",
       "      <td>M</td>\n",
       "      <td>45</td>\n",
       "      <td>A</td>\n",
       "      <td>-</td>\n",
       "      <td>W</td>\n",
       "      <td>...</td>\n",
       "      <td>1993.0</td>\n",
       "      <td>MERCURY</td>\n",
       "      <td>M</td>\n",
       "      <td>NaN</td>\n",
       "      <td>NaN</td>\n",
       "      <td>H</td>\n",
       "      <td>NaN</td>\n",
       "      <td>-</td>\n",
       "      <td>-</td>\n",
       "      <td>2003</td>\n",
       "    </tr>\n",
       "    <tr>\n",
       "      <th>4</th>\n",
       "      <td>5</td>\n",
       "      <td>416269</td>\n",
       "      <td>1</td>\n",
       "      <td>1.0</td>\n",
       "      <td>Y</td>\n",
       "      <td>M</td>\n",
       "      <td>52</td>\n",
       "      <td>A</td>\n",
       "      <td>-</td>\n",
       "      <td>S</td>\n",
       "      <td>...</td>\n",
       "      <td>1998.0</td>\n",
       "      <td>OLDSMOBILE</td>\n",
       "      <td>A</td>\n",
       "      <td>NaN</td>\n",
       "      <td>NaN</td>\n",
       "      <td>H</td>\n",
       "      <td>NaN</td>\n",
       "      <td>-</td>\n",
       "      <td>-</td>\n",
       "      <td>2003</td>\n",
       "    </tr>\n",
       "    <tr>\n",
       "      <th>...</th>\n",
       "      <td>...</td>\n",
       "      <td>...</td>\n",
       "      <td>...</td>\n",
       "      <td>...</td>\n",
       "      <td>...</td>\n",
       "      <td>...</td>\n",
       "      <td>...</td>\n",
       "      <td>...</td>\n",
       "      <td>...</td>\n",
       "      <td>...</td>\n",
       "      <td>...</td>\n",
       "      <td>...</td>\n",
       "      <td>...</td>\n",
       "      <td>...</td>\n",
       "      <td>...</td>\n",
       "      <td>...</td>\n",
       "      <td>...</td>\n",
       "      <td>...</td>\n",
       "      <td>...</td>\n",
       "      <td>...</td>\n",
       "      <td>...</td>\n",
       "    </tr>\n",
       "    <tr>\n",
       "      <th>937667</th>\n",
       "      <td>937668</td>\n",
       "      <td>9022627</td>\n",
       "      <td>1</td>\n",
       "      <td>1.0</td>\n",
       "      <td>Y</td>\n",
       "      <td>F</td>\n",
       "      <td>36</td>\n",
       "      <td>A</td>\n",
       "      <td>-</td>\n",
       "      <td>N</td>\n",
       "      <td>...</td>\n",
       "      <td>2007.0</td>\n",
       "      <td>INTERNATIONAL HARVESTER</td>\n",
       "      <td>H</td>\n",
       "      <td>17</td>\n",
       "      <td>00</td>\n",
       "      <td>H</td>\n",
       "      <td>NaN</td>\n",
       "      <td>-</td>\n",
       "      <td>-</td>\n",
       "      <td>2006</td>\n",
       "    </tr>\n",
       "    <tr>\n",
       "      <th>937668</th>\n",
       "      <td>937669</td>\n",
       "      <td>9022627</td>\n",
       "      <td>2</td>\n",
       "      <td>3.0</td>\n",
       "      <td>N</td>\n",
       "      <td>-</td>\n",
       "      <td>998</td>\n",
       "      <td>H</td>\n",
       "      <td>H</td>\n",
       "      <td>N</td>\n",
       "      <td>...</td>\n",
       "      <td>2006.0</td>\n",
       "      <td>INTERNATIONAL HARVESTER</td>\n",
       "      <td>H</td>\n",
       "      <td>17</td>\n",
       "      <td>00</td>\n",
       "      <td>NaN</td>\n",
       "      <td>NaN</td>\n",
       "      <td>-</td>\n",
       "      <td>-</td>\n",
       "      <td>2006</td>\n",
       "    </tr>\n",
       "    <tr>\n",
       "      <th>937669</th>\n",
       "      <td>937670</td>\n",
       "      <td>9023470</td>\n",
       "      <td>1</td>\n",
       "      <td>1.0</td>\n",
       "      <td>Y</td>\n",
       "      <td>M</td>\n",
       "      <td>50</td>\n",
       "      <td>A</td>\n",
       "      <td>-</td>\n",
       "      <td>N</td>\n",
       "      <td>...</td>\n",
       "      <td>1971.0</td>\n",
       "      <td>FORD</td>\n",
       "      <td>E</td>\n",
       "      <td>NaN</td>\n",
       "      <td>NaN</td>\n",
       "      <td>H</td>\n",
       "      <td>NaN</td>\n",
       "      <td>-</td>\n",
       "      <td>-</td>\n",
       "      <td>2006</td>\n",
       "    </tr>\n",
       "    <tr>\n",
       "      <th>937670</th>\n",
       "      <td>937671</td>\n",
       "      <td>9023470</td>\n",
       "      <td>2</td>\n",
       "      <td>3.0</td>\n",
       "      <td>N</td>\n",
       "      <td>-</td>\n",
       "      <td>998</td>\n",
       "      <td>H</td>\n",
       "      <td>H</td>\n",
       "      <td>N</td>\n",
       "      <td>...</td>\n",
       "      <td>2004.0</td>\n",
       "      <td>FORD</td>\n",
       "      <td>J</td>\n",
       "      <td>NaN</td>\n",
       "      <td>NaN</td>\n",
       "      <td>NaN</td>\n",
       "      <td>NaN</td>\n",
       "      <td>-</td>\n",
       "      <td>-</td>\n",
       "      <td>2006</td>\n",
       "    </tr>\n",
       "    <tr>\n",
       "      <th>937671</th>\n",
       "      <td>937672</td>\n",
       "      <td>9023470</td>\n",
       "      <td>3</td>\n",
       "      <td>3.0</td>\n",
       "      <td>N</td>\n",
       "      <td>-</td>\n",
       "      <td>998</td>\n",
       "      <td>H</td>\n",
       "      <td>H</td>\n",
       "      <td>N</td>\n",
       "      <td>...</td>\n",
       "      <td>2005.0</td>\n",
       "      <td>DODGE</td>\n",
       "      <td>A</td>\n",
       "      <td>NaN</td>\n",
       "      <td>NaN</td>\n",
       "      <td>NaN</td>\n",
       "      <td>NaN</td>\n",
       "      <td>-</td>\n",
       "      <td>-</td>\n",
       "      <td>2006</td>\n",
       "    </tr>\n",
       "  </tbody>\n",
       "</table>\n",
       "<p>937672 rows × 35 columns</p>\n",
       "</div>"
      ],
      "text/plain": [
       "           FID  CASE_ID  PARTY_NUMBER  PARTY_TYPE AT_FAULT PARTY_SEX  \\\n",
       "0            1   416267             1         1.0        N         F   \n",
       "1            2   416267             2         4.0        Y         M   \n",
       "2            3   416268             1         1.0        N         M   \n",
       "3            4   416268             2         1.0        Y         M   \n",
       "4            5   416269             1         1.0        Y         M   \n",
       "...        ...      ...           ...         ...      ...       ...   \n",
       "937667  937668  9022627             1         1.0        Y         F   \n",
       "937668  937669  9022627             2         3.0        N         -   \n",
       "937669  937670  9023470             1         1.0        Y         M   \n",
       "937670  937671  9023470             2         3.0        N         -   \n",
       "937671  937672  9023470             3         3.0        N         -   \n",
       "\n",
       "        PARTY_AGE PARTY_SOBRIETY PARTY_DRUG_PHYSICAL DIR_OF_TRAVEL  ...  \\\n",
       "0              26              G                   G             N  ...   \n",
       "1              30              G                   G             W  ...   \n",
       "2              40              B                   -             E  ...   \n",
       "3              45              A                   -             W  ...   \n",
       "4              52              A                   -             S  ...   \n",
       "...           ...            ...                 ...           ...  ...   \n",
       "937667         36              A                   -             N  ...   \n",
       "937668        998              H                   H             N  ...   \n",
       "937669         50              A                   -             N  ...   \n",
       "937670        998              H                   H             N  ...   \n",
       "937671        998              H                   H             N  ...   \n",
       "\n",
       "       VEHICLE_YEAR             VEHICLE_MAKE STWD_VEHICLE_TYPE  \\\n",
       "0            2001.0               MITSUBISHI                 A   \n",
       "1               0.0                        -                 L   \n",
       "2            1989.0                     FORD                 D   \n",
       "3            1993.0                  MERCURY                 M   \n",
       "4            1998.0               OLDSMOBILE                 A   \n",
       "...             ...                      ...               ...   \n",
       "937667       2007.0  INTERNATIONAL HARVESTER                 H   \n",
       "937668       2006.0  INTERNATIONAL HARVESTER                 H   \n",
       "937669       1971.0                     FORD                 E   \n",
       "937670       2004.0                     FORD                 J   \n",
       "937671       2005.0                    DODGE                 A   \n",
       "\n",
       "       CHP_VEH_TYPE_TOWING CHP_VEH_TYPE_TOWED RACE INATTENTION SPECIAL_INFO_F  \\\n",
       "0                      NaN                NaN    W         NaN              -   \n",
       "1                      NaN                NaN    W         NaN              -   \n",
       "2                      NaN                NaN    W         NaN              -   \n",
       "3                      NaN                NaN    H         NaN              -   \n",
       "4                      NaN                NaN    H         NaN              -   \n",
       "...                    ...                ...  ...         ...            ...   \n",
       "937667                  17                 00    H         NaN              -   \n",
       "937668                  17                 00  NaN         NaN              -   \n",
       "937669                 NaN                NaN    H         NaN              -   \n",
       "937670                 NaN                NaN  NaN         NaN              -   \n",
       "937671                 NaN                NaN  NaN         NaN              -   \n",
       "\n",
       "        SPECIAL_INFO_G ACCIDENT_YEAR  \n",
       "0                    -          2003  \n",
       "1                    -          2003  \n",
       "2                    -          2003  \n",
       "3                    -          2003  \n",
       "4                    -          2003  \n",
       "...                ...           ...  \n",
       "937667               -          2006  \n",
       "937668               -          2006  \n",
       "937669               -          2006  \n",
       "937670               -          2006  \n",
       "937671               -          2006  \n",
       "\n",
       "[937672 rows x 35 columns]"
      ]
     },
     "execution_count": 21,
     "metadata": {},
     "output_type": "execute_result"
    }
   ],
   "source": [
    "df2"
   ]
  },
  {
   "cell_type": "code",
   "execution_count": 22,
   "id": "1caa3822-f077-48a2-b210-7fe13fbcd8cf",
   "metadata": {},
   "outputs": [
    {
     "data": {
      "text/plain": [
       "<Axes: ylabel='Frequency'>"
      ]
     },
     "execution_count": 22,
     "metadata": {},
     "output_type": "execute_result"
    },
    {
     "data": {
      "image/png": "[encoded data removed]",
      "text/plain": [
       "<Figure size 640x480 with 1 Axes>"
      ]
     },
     "metadata": {},
     "output_type": "display_data"
    }
   ],
   "source": [
    "df2['PARTY_NUMBER'].plot.hist(bins=50)"
   ]
  },
  {
   "cell_type": "code",
   "execution_count": 23,
   "id": "a0a6b286-4650-4379-87cd-3429c44bdb83",
   "metadata": {},
   "outputs": [
    {
     "data": {
      "text/plain": [
       "<Axes: ylabel='Frequency'>"
      ]
     },
     "execution_count": 23,
     "metadata": {},
     "output_type": "execute_result"
    },
    {
     "data": {
      "image/png": "[encoded data removed]",
      "text/plain": [
       "<Figure size 640x480 with 1 Axes>"
      ]
     },
     "metadata": {},
     "output_type": "display_data"
    }
   ],
   "source": [
    "df2['PARTY_AGE'].plot.hist(bins=50)"
   ]
  },
  {
   "cell_type": "markdown",
   "id": "0598d4ed-1eac-4319-9730-2b425dff0a92",
   "metadata": {},
   "source": [
    "This shows that more than 80,000 car collisions have involved a single person, which is presumably the driver. "
   ]
  },
  {
   "cell_type": "code",
   "execution_count": 24,
   "id": "eaf25f5b-27d1-47d7-9ca7-d9630b1c09cb",
   "metadata": {},
   "outputs": [
    {
     "data": {
      "text/plain": [
       "<Axes: >"
      ]
     },
     "execution_count": 24,
     "metadata": {},
     "output_type": "execute_result"
    },
    {
     "data": {
      "image/png": "[encoded data removed]",
      "text/plain": [
       "<Figure size 640x480 with 1 Axes>"
      ]
     },
     "metadata": {},
     "output_type": "display_data"
    }
   ],
   "source": [
    "df2.boxplot(column=['PARTY_NUMBER'])"
   ]
  },
  {
   "cell_type": "markdown",
   "id": "f123de7f-9181-47df-af75-2b13884cab18",
   "metadata": {},
   "source": [
    "1 - Driver (including Hit and Run)\n",
    "2 - Pedestrian\n",
    "3 - Parked Vehicle\n",
    "4 - Bicyclist\n",
    "5 - Other\n",
    "- - Not Stated"
   ]
  },
  {
   "cell_type": "code",
   "execution_count": 5,
   "id": "71e8bc09-8869-45e8-a202-91c820692732",
   "metadata": {},
   "outputs": [
    {
     "data": {
      "text/plain": [
       "307.26805748705306"
      ]
     },
     "execution_count": 5,
     "metadata": {},
     "output_type": "execute_result"
    }
   ],
   "source": [
    "# This shows the average age of the person involved in the collision\n",
    "df2['PARTY_AGE'].mean()"
   ]
  },
  {
   "cell_type": "code",
   "execution_count": 6,
   "id": "51b41ece-b7c5-4119-973c-e02a74296c33",
   "metadata": {},
   "outputs": [
    {
     "data": {
      "text/plain": [
       "<Axes: title={'center': 'Top 10'}, ylabel='PARTY_AGE'>"
      ]
     },
     "execution_count": 6,
     "metadata": {},
     "output_type": "execute_result"
    },
    {
     "data": {
      "image/png": "[encoded data removed]",
      "text/plain": [
       "<Figure size 640x480 with 1 Axes>"
      ]
     },
     "metadata": {},
     "output_type": "display_data"
    }
   ],
   "source": [
    "df2.head(10).plot.barh(x='PARTY_AGE',\n",
    "                            y='PARTY_NUMBER', \n",
    "                            title='Top 10',\n",
    "                            color='pink')"
   ]
  },
  {
   "cell_type": "code",
   "execution_count": 7,
   "id": "59172e8f-12ac-43fd-b319-b31a04a7b116",
   "metadata": {},
   "outputs": [],
   "source": [
    "# To map out traffic collision data, I used the collisions dataset from geohub as a geoJSON file\n",
    "\n",
    "import geopandas as gpd"
   ]
  },
  {
   "cell_type": "code",
   "execution_count": 9,
   "id": "ac611b52-dcad-4a26-b48d-c56d8821dca2",
   "metadata": {},
   "outputs": [],
   "source": [
    "df4=gpd.read_file('Census_Tracts_2020.geojson')"
   ]
  },
  {
   "cell_type": "code",
   "execution_count": 10,
   "id": "258a132d-7cef-4a60-96a4-c351a86ef19b",
   "metadata": {},
   "outputs": [
    {
     "data": {
      "text/html": [
       "<div>\n",
       "<style scoped>\n",
       "    .dataframe tbody tr th:only-of-type {\n",
       "        vertical-align: middle;\n",
       "    }\n",
       "\n",
       "    .dataframe tbody tr th {\n",
       "        vertical-align: top;\n",
       "    }\n",
       "\n",
       "    .dataframe thead th {\n",
       "        text-align: right;\n",
       "    }\n",
       "</style>\n",
       "<table border=\"1\" class=\"dataframe\">\n",
       "  <thead>\n",
       "    <tr style=\"text-align: right;\">\n",
       "      <th></th>\n",
       "      <th>OBJECTID</th>\n",
       "      <th>CT20</th>\n",
       "      <th>LABEL</th>\n",
       "      <th>ShapeSTArea</th>\n",
       "      <th>ShapeSTLength</th>\n",
       "      <th>geometry</th>\n",
       "    </tr>\n",
       "  </thead>\n",
       "  <tbody>\n",
       "    <tr>\n",
       "      <th>0</th>\n",
       "      <td>1</td>\n",
       "      <td>101110</td>\n",
       "      <td>1011.10</td>\n",
       "      <td>1.229562e+07</td>\n",
       "      <td>15083.854287</td>\n",
       "      <td>POLYGON ((-118.28491 34.25948, -118.28492 34.2...</td>\n",
       "    </tr>\n",
       "    <tr>\n",
       "      <th>1</th>\n",
       "      <td>2</td>\n",
       "      <td>101122</td>\n",
       "      <td>1011.22</td>\n",
       "      <td>2.845774e+07</td>\n",
       "      <td>31671.455844</td>\n",
       "      <td>POLYGON ((-118.29015 34.27417, -118.29015 34.2...</td>\n",
       "    </tr>\n",
       "    <tr>\n",
       "      <th>2</th>\n",
       "      <td>3</td>\n",
       "      <td>101220</td>\n",
       "      <td>1012.20</td>\n",
       "      <td>7.522093e+06</td>\n",
       "      <td>12698.783810</td>\n",
       "      <td>POLYGON ((-118.28100 34.25592, -118.28198 34.2...</td>\n",
       "    </tr>\n",
       "    <tr>\n",
       "      <th>3</th>\n",
       "      <td>4</td>\n",
       "      <td>101221</td>\n",
       "      <td>1012.21</td>\n",
       "      <td>3.812000e+06</td>\n",
       "      <td>9161.710543</td>\n",
       "      <td>POLYGON ((-118.28735 34.25591, -118.28863 34.2...</td>\n",
       "    </tr>\n",
       "    <tr>\n",
       "      <th>4</th>\n",
       "      <td>5</td>\n",
       "      <td>101222</td>\n",
       "      <td>1012.22</td>\n",
       "      <td>3.191371e+06</td>\n",
       "      <td>9980.600461</td>\n",
       "      <td>POLYGON ((-118.28594 34.25405, -118.28594 34.2...</td>\n",
       "    </tr>\n",
       "    <tr>\n",
       "      <th>...</th>\n",
       "      <td>...</td>\n",
       "      <td>...</td>\n",
       "      <td>...</td>\n",
       "      <td>...</td>\n",
       "      <td>...</td>\n",
       "      <td>...</td>\n",
       "    </tr>\n",
       "    <tr>\n",
       "      <th>2490</th>\n",
       "      <td>2491</td>\n",
       "      <td>980035</td>\n",
       "      <td>9800.35</td>\n",
       "      <td>1.716394e+08</td>\n",
       "      <td>107459.157092</td>\n",
       "      <td>POLYGON ((-117.98268 34.04469, -117.98287 34.0...</td>\n",
       "    </tr>\n",
       "    <tr>\n",
       "      <th>2491</th>\n",
       "      <td>2492</td>\n",
       "      <td>980036</td>\n",
       "      <td>9800.36</td>\n",
       "      <td>9.425460e+07</td>\n",
       "      <td>67746.068379</td>\n",
       "      <td>POLYGON ((-118.07027 34.05725, -118.07073 34.0...</td>\n",
       "    </tr>\n",
       "    <tr>\n",
       "      <th>2492</th>\n",
       "      <td>2493</td>\n",
       "      <td>980037</td>\n",
       "      <td>9800.37</td>\n",
       "      <td>1.402219e+07</td>\n",
       "      <td>15116.000420</td>\n",
       "      <td>POLYGON ((-118.28411 33.80773, -118.28447 33.8...</td>\n",
       "    </tr>\n",
       "    <tr>\n",
       "      <th>2493</th>\n",
       "      <td>2494</td>\n",
       "      <td>980038</td>\n",
       "      <td>9800.38</td>\n",
       "      <td>4.861673e+07</td>\n",
       "      <td>42991.767229</td>\n",
       "      <td>POLYGON ((-118.36674 34.01539, -118.36673 34.0...</td>\n",
       "    </tr>\n",
       "    <tr>\n",
       "      <th>2494</th>\n",
       "      <td>2495</td>\n",
       "      <td>980039</td>\n",
       "      <td>9800.39</td>\n",
       "      <td>1.464167e+07</td>\n",
       "      <td>19526.113647</td>\n",
       "      <td>POLYGON ((-118.34718 34.14218, -118.34753 34.1...</td>\n",
       "    </tr>\n",
       "  </tbody>\n",
       "</table>\n",
       "<p>2495 rows × 6 columns</p>\n",
       "</div>"
      ],
      "text/plain": [
       "      OBJECTID    CT20    LABEL   ShapeSTArea  ShapeSTLength  \\\n",
       "0            1  101110  1011.10  1.229562e+07   15083.854287   \n",
       "1            2  101122  1011.22  2.845774e+07   31671.455844   \n",
       "2            3  101220  1012.20  7.522093e+06   12698.783810   \n",
       "3            4  101221  1012.21  3.812000e+06    9161.710543   \n",
       "4            5  101222  1012.22  3.191371e+06    9980.600461   \n",
       "...        ...     ...      ...           ...            ...   \n",
       "2490      2491  980035  9800.35  1.716394e+08  107459.157092   \n",
       "2491      2492  980036  9800.36  9.425460e+07   67746.068379   \n",
       "2492      2493  980037  9800.37  1.402219e+07   15116.000420   \n",
       "2493      2494  980038  9800.38  4.861673e+07   42991.767229   \n",
       "2494      2495  980039  9800.39  1.464167e+07   19526.113647   \n",
       "\n",
       "                                               geometry  \n",
       "0     POLYGON ((-118.28491 34.25948, -118.28492 34.2...  \n",
       "1     POLYGON ((-118.29015 34.27417, -118.29015 34.2...  \n",
       "2     POLYGON ((-118.28100 34.25592, -118.28198 34.2...  \n",
       "3     POLYGON ((-118.28735 34.25591, -118.28863 34.2...  \n",
       "4     POLYGON ((-118.28594 34.25405, -118.28594 34.2...  \n",
       "...                                                 ...  \n",
       "2490  POLYGON ((-117.98268 34.04469, -117.98287 34.0...  \n",
       "2491  POLYGON ((-118.07027 34.05725, -118.07073 34.0...  \n",
       "2492  POLYGON ((-118.28411 33.80773, -118.28447 33.8...  \n",
       "2493  POLYGON ((-118.36674 34.01539, -118.36673 34.0...  \n",
       "2494  POLYGON ((-118.34718 34.14218, -118.34753 34.1...  \n",
       "\n",
       "[2495 rows x 6 columns]"
      ]
     },
     "execution_count": 10,
     "metadata": {},
     "output_type": "execute_result"
    }
   ],
   "source": [
    "df4"
   ]
  },
  {
   "cell_type": "code",
   "execution_count": 11,
   "id": "9b78cb5c-2d10-4ff0-a770-467bf54f75b0",
   "metadata": {},
   "outputs": [
    {
     "data": {
      "text/plain": [
       "<Axes: >"
      ]
     },
     "execution_count": 11,
     "metadata": {},
     "output_type": "execute_result"
    },
    {
     "data": {
      "image/png": "[encoded data removed]",
      "text/plain": [
       "<Figure size 1200x1000 with 1 Axes>"
      ]
     },
     "metadata": {},
     "output_type": "display_data"
    }
   ],
   "source": [
    "#I plotted the census data because the traffic collisions file was just not loading.\n",
    "df4.plot(figsize=(12,10))"
   ]
  },
  {
   "cell_type": "code",
   "execution_count": 12,
   "id": "ef62fc4e-e4bf-4dae-a3a8-4f417316d07b",
   "metadata": {},
   "outputs": [
    {
     "data": {
      "text/html": [
       "<div>\n",
       "<style scoped>\n",
       "    .dataframe tbody tr th:only-of-type {\n",
       "        vertical-align: middle;\n",
       "    }\n",
       "\n",
       "    .dataframe tbody tr th {\n",
       "        vertical-align: top;\n",
       "    }\n",
       "\n",
       "    .dataframe thead th {\n",
       "        text-align: right;\n",
       "    }\n",
       "</style>\n",
       "<table border=\"1\" class=\"dataframe\">\n",
       "  <thead>\n",
       "    <tr style=\"text-align: right;\">\n",
       "      <th></th>\n",
       "      <th>OBJECTID</th>\n",
       "      <th>CT20</th>\n",
       "      <th>LABEL</th>\n",
       "      <th>ShapeSTArea</th>\n",
       "      <th>ShapeSTLength</th>\n",
       "      <th>geometry</th>\n",
       "    </tr>\n",
       "  </thead>\n",
       "  <tbody>\n",
       "    <tr>\n",
       "      <th>0</th>\n",
       "      <td>1</td>\n",
       "      <td>101110</td>\n",
       "      <td>1011.10</td>\n",
       "      <td>1.229562e+07</td>\n",
       "      <td>15083.854287</td>\n",
       "      <td>POLYGON ((-118.28491 34.25948, -118.28492 34.2...</td>\n",
       "    </tr>\n",
       "    <tr>\n",
       "      <th>1</th>\n",
       "      <td>2</td>\n",
       "      <td>101122</td>\n",
       "      <td>1011.22</td>\n",
       "      <td>2.845774e+07</td>\n",
       "      <td>31671.455844</td>\n",
       "      <td>POLYGON ((-118.29015 34.27417, -118.29015 34.2...</td>\n",
       "    </tr>\n",
       "    <tr>\n",
       "      <th>2</th>\n",
       "      <td>3</td>\n",
       "      <td>101220</td>\n",
       "      <td>1012.20</td>\n",
       "      <td>7.522093e+06</td>\n",
       "      <td>12698.783810</td>\n",
       "      <td>POLYGON ((-118.28100 34.25592, -118.28198 34.2...</td>\n",
       "    </tr>\n",
       "    <tr>\n",
       "      <th>3</th>\n",
       "      <td>4</td>\n",
       "      <td>101221</td>\n",
       "      <td>1012.21</td>\n",
       "      <td>3.812000e+06</td>\n",
       "      <td>9161.710543</td>\n",
       "      <td>POLYGON ((-118.28735 34.25591, -118.28863 34.2...</td>\n",
       "    </tr>\n",
       "    <tr>\n",
       "      <th>4</th>\n",
       "      <td>5</td>\n",
       "      <td>101222</td>\n",
       "      <td>1012.22</td>\n",
       "      <td>3.191371e+06</td>\n",
       "      <td>9980.600461</td>\n",
       "      <td>POLYGON ((-118.28594 34.25405, -118.28594 34.2...</td>\n",
       "    </tr>\n",
       "  </tbody>\n",
       "</table>\n",
       "</div>"
      ],
      "text/plain": [
       "   OBJECTID    CT20    LABEL   ShapeSTArea  ShapeSTLength  \\\n",
       "0         1  101110  1011.10  1.229562e+07   15083.854287   \n",
       "1         2  101122  1011.22  2.845774e+07   31671.455844   \n",
       "2         3  101220  1012.20  7.522093e+06   12698.783810   \n",
       "3         4  101221  1012.21  3.812000e+06    9161.710543   \n",
       "4         5  101222  1012.22  3.191371e+06    9980.600461   \n",
       "\n",
       "                                            geometry  \n",
       "0  POLYGON ((-118.28491 34.25948, -118.28492 34.2...  \n",
       "1  POLYGON ((-118.29015 34.27417, -118.29015 34.2...  \n",
       "2  POLYGON ((-118.28100 34.25592, -118.28198 34.2...  \n",
       "3  POLYGON ((-118.28735 34.25591, -118.28863 34.2...  \n",
       "4  POLYGON ((-118.28594 34.25405, -118.28594 34.2...  "
      ]
     },
     "execution_count": 12,
     "metadata": {},
     "output_type": "execute_result"
    }
   ],
   "source": [
    "df4.head()"
   ]
  },
  {
   "cell_type": "code",
   "execution_count": null,
   "id": "23d76401-bdbe-44c0-8ec6-1cb60fb4b0ca",
   "metadata": {},
   "outputs": [],
   "source": []
  }
 ],
 "metadata": {
  "kernelspec": {
   "display_name": "Python 3 (ipykernel)",
   "language": "python",
   "name": "python3"
  },
  "language_info": {
   "codemirror_mode": {
    "name": "ipython",
    "version": 3
   },
   "file_extension": ".py",
   "mimetype": "text/x-python",
   "name": "python",
   "nbconvert_exporter": "python",
   "pygments_lexer": "ipython3",
   "version": "3.11.7"
  }
 },
 "nbformat": 4,
 "nbformat_minor": 5
}
